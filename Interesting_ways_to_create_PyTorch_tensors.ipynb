{
  "nbformat": 4,
  "nbformat_minor": 0,
  "metadata": {
    "kernelspec": {
      "display_name": "Python 3",
      "language": "python",
      "name": "python3"
    },
    "language_info": {
      "codemirror_mode": {
        "name": "ipython",
        "version": 3
      },
      "file_extension": ".py",
      "mimetype": "text/x-python",
      "name": "python",
      "nbconvert_exporter": "python",
      "pygments_lexer": "ipython3",
      "version": "3.8.5"
    },
    "colab": {
      "name": "Interesting ways to create PyTorch tensors.ipynb",
      "provenance": []
    }
  },
  "cells": [
    {
      "cell_type": "markdown",
      "metadata": {
        "id": "fyQKp4qrAOos"
      },
      "source": [
        "# Title\n",
        "\n",
        "An short introduction about PyTorch and about the chosen functions. \n",
        "\n",
        "- torch.zeros\n",
        "- torch.eye\n",
        "- torch.ones\n",
        "- torch.rand\n",
        "- torch.unsqueeze\n",
        "\n",
        "Before we begin, let's install and import PyTorch"
      ]
    },
    {
      "cell_type": "code",
      "metadata": {
        "id": "dwkvPNfpAOot"
      },
      "source": [
        "# Import torch and other required modules\n",
        "import torch"
      ],
      "execution_count": null,
      "outputs": []
    },
    {
      "cell_type": "markdown",
      "metadata": {
        "id": "N-fXwRPjAOot"
      },
      "source": [
        "## Function 1 - torch.zeros\n",
        "\n",
        "Return tensor with zeros in rows and columns"
      ]
    },
    {
      "cell_type": "code",
      "metadata": {
        "colab": {
          "base_uri": "https://localhost:8080/"
        },
        "id": "bHSBIBp7AOot",
        "outputId": "f56d04ef-4b30-47d4-92f1-924bd7010d8d"
      },
      "source": [
        "# Example 1 - working (change this)\n",
        "torch.zeros(2,2)"
      ],
      "execution_count": null,
      "outputs": [
        {
          "output_type": "execute_result",
          "data": {
            "text/plain": [
              "tensor([[0., 0.],\n",
              "        [0., 0.]])"
            ]
          },
          "metadata": {
            "tags": []
          },
          "execution_count": 11
        }
      ]
    },
    {
      "cell_type": "markdown",
      "metadata": {
        "id": "U8jNq2g2AOov"
      },
      "source": [
        "A 2-by-2 tensor having all enties as 0"
      ]
    },
    {
      "cell_type": "code",
      "metadata": {
        "colab": {
          "base_uri": "https://localhost:8080/"
        },
        "id": "SA_COGGkAOov",
        "outputId": "cea7baf2-b8d1-43ad-f1ad-86a9ea1f8c39"
      },
      "source": [
        "# Example 2 - working\n",
        "torch.zeros(3,4)"
      ],
      "execution_count": null,
      "outputs": [
        {
          "output_type": "execute_result",
          "data": {
            "text/plain": [
              "tensor([[0., 0., 0., 0.],\n",
              "        [0., 0., 0., 0.],\n",
              "        [0., 0., 0., 0.]])"
            ]
          },
          "metadata": {
            "tags": []
          },
          "execution_count": 12
        }
      ]
    },
    {
      "cell_type": "markdown",
      "metadata": {
        "id": "Dli7Wq22AOov"
      },
      "source": [
        "3-by-4 tensor containg zeros at each position"
      ]
    },
    {
      "cell_type": "code",
      "metadata": {
        "colab": {
          "base_uri": "https://localhost:8080/",
          "height": 237
        },
        "id": "X1ZSrrzwAOow",
        "outputId": "7364b04a-83e4-48dc-ce92-caac469af6c2"
      },
      "source": [
        "# Example 3 - breaking (to illustrate when it breaks)\n",
        "torch.zeros()"
      ],
      "execution_count": null,
      "outputs": [
        {
          "output_type": "error",
          "ename": "TypeError",
          "evalue": "ignored",
          "traceback": [
            "\u001b[0;31m---------------------------------------------------------------------------\u001b[0m",
            "\u001b[0;31mTypeError\u001b[0m                                 Traceback (most recent call last)",
            "\u001b[0;32m<ipython-input-14-12b5034320a2>\u001b[0m in \u001b[0;36m<module>\u001b[0;34m()\u001b[0m\n\u001b[1;32m      1\u001b[0m \u001b[0;31m# Example 3 - breaking (to illustrate when it breaks)\u001b[0m\u001b[0;34m\u001b[0m\u001b[0;34m\u001b[0m\u001b[0;34m\u001b[0m\u001b[0m\n\u001b[0;32m----> 2\u001b[0;31m \u001b[0mtorch\u001b[0m\u001b[0;34m.\u001b[0m\u001b[0mzeros\u001b[0m\u001b[0;34m(\u001b[0m\u001b[0;34m)\u001b[0m\u001b[0;34m\u001b[0m\u001b[0;34m\u001b[0m\u001b[0m\n\u001b[0m",
            "\u001b[0;31mTypeError\u001b[0m: zeros() received an invalid combination of arguments - got (), but expected one of:\n * (tuple of ints size, *, tuple of names names, torch.dtype dtype, torch.layout layout, torch.device device, bool pin_memory, bool requires_grad)\n * (tuple of ints size, *, Tensor out, torch.dtype dtype, torch.layout layout, torch.device device, bool pin_memory, bool requires_grad)\n"
          ]
        }
      ]
    },
    {
      "cell_type": "markdown",
      "metadata": {
        "id": "gdukS4ZXAOoy"
      },
      "source": [
        "Tensor of zeros with no defined rows and columns of tensor"
      ]
    },
    {
      "cell_type": "markdown",
      "metadata": {
        "id": "acEjGFiwAOoy"
      },
      "source": [
        "This function is used to generate an empty tensor or tensor containing only zeros"
      ]
    },
    {
      "cell_type": "markdown",
      "metadata": {
        "id": "u_pZiCqXAOoz"
      },
      "source": [
        "## Function 2 - torch.eye\n",
        "\n",
        "Identity tensor is same like identity matrix having 1's in diagonal and 0's in other places."
      ]
    },
    {
      "cell_type": "code",
      "metadata": {
        "colab": {
          "base_uri": "https://localhost:8080/"
        },
        "id": "KAhQWTAUAOoz",
        "outputId": "b1403bf3-1d3c-4c9d-cf23-a755560c10d5"
      },
      "source": [
        "# Example 1 - working\n",
        "torch.eye(2)"
      ],
      "execution_count": null,
      "outputs": [
        {
          "output_type": "execute_result",
          "data": {
            "text/plain": [
              "tensor([[1., 0.],\n",
              "        [0., 1.]])"
            ]
          },
          "metadata": {
            "tags": []
          },
          "execution_count": 7
        }
      ]
    },
    {
      "cell_type": "markdown",
      "metadata": {
        "id": "-pn_ebzIAOo0"
      },
      "source": [
        "Identity tensor having 2 rows and 2 columns"
      ]
    },
    {
      "cell_type": "code",
      "metadata": {
        "colab": {
          "base_uri": "https://localhost:8080/"
        },
        "id": "2toQ85-lAOo0",
        "outputId": "1a7eeae0-9185-4a5d-afc8-517bc973c599"
      },
      "source": [
        "# Example 2 - working\n",
        "torch.eye(3)"
      ],
      "execution_count": null,
      "outputs": [
        {
          "output_type": "execute_result",
          "data": {
            "text/plain": [
              "tensor([[1., 0., 0.],\n",
              "        [0., 1., 0.],\n",
              "        [0., 0., 1.]])"
            ]
          },
          "metadata": {
            "tags": []
          },
          "execution_count": 8
        }
      ]
    },
    {
      "cell_type": "markdown",
      "metadata": {
        "id": "CLVYqWD0AOo0"
      },
      "source": [
        "Identity tensor having 3 rows and 3 columns"
      ]
    },
    {
      "cell_type": "code",
      "metadata": {
        "colab": {
          "base_uri": "https://localhost:8080/",
          "height": 219
        },
        "id": "620mqaWwAOo1",
        "outputId": "c7e228ff-cb1d-4f81-8dea-2abdada8f106"
      },
      "source": [
        "# Example 3 - breaking (to illustrate when it breaks)\n",
        "torch.eye()"
      ],
      "execution_count": null,
      "outputs": [
        {
          "output_type": "error",
          "ename": "TypeError",
          "evalue": "ignored",
          "traceback": [
            "\u001b[0;31m---------------------------------------------------------------------------\u001b[0m",
            "\u001b[0;31mTypeError\u001b[0m                                 Traceback (most recent call last)",
            "\u001b[0;32m<ipython-input-9-737d2de90eef>\u001b[0m in \u001b[0;36m<module>\u001b[0;34m()\u001b[0m\n\u001b[1;32m      1\u001b[0m \u001b[0;31m# Example 3 - breaking (to illustrate when it breaks)\u001b[0m\u001b[0;34m\u001b[0m\u001b[0;34m\u001b[0m\u001b[0;34m\u001b[0m\u001b[0m\n\u001b[0;32m----> 2\u001b[0;31m \u001b[0mtorch\u001b[0m\u001b[0;34m.\u001b[0m\u001b[0meye\u001b[0m\u001b[0;34m(\u001b[0m\u001b[0;34m)\u001b[0m\u001b[0;34m\u001b[0m\u001b[0;34m\u001b[0m\u001b[0m\n\u001b[0m",
            "\u001b[0;31mTypeError\u001b[0m: eye() received an invalid combination of arguments - got (), but expected one of:\n * (int n, *, Tensor out, torch.dtype dtype, torch.layout layout, torch.device device, bool pin_memory, bool requires_grad)\n * (int n, int m, *, Tensor out, torch.dtype dtype, torch.layout layout, torch.device device, bool pin_memory, bool requires_grad)\n"
          ]
        }
      ]
    },
    {
      "cell_type": "markdown",
      "metadata": {
        "id": "ek6qOYWbAOo1"
      },
      "source": [
        "Identity tensor with no rows and columns"
      ]
    },
    {
      "cell_type": "markdown",
      "metadata": {
        "id": "ZUM9xzXDAOo1"
      },
      "source": [
        "This function is used to make identity matrixes/tensors used in computations with other tensors/matrixes"
      ]
    },
    {
      "cell_type": "markdown",
      "metadata": {
        "id": "R8Pft3fAAOo1"
      },
      "source": [
        "## Function 3 - torch.ones\n",
        "\n",
        "torch.ones is used to generate tensor containig 1's in each row and column"
      ]
    },
    {
      "cell_type": "code",
      "metadata": {
        "colab": {
          "base_uri": "https://localhost:8080/"
        },
        "id": "WBirCQGTAOo1",
        "outputId": "f56797c3-cd86-46b7-e72c-f242ceaab43e"
      },
      "source": [
        "# Example 1 - working\n",
        "torch.ones(2,2)"
      ],
      "execution_count": null,
      "outputs": [
        {
          "output_type": "execute_result",
          "data": {
            "text/plain": [
              "tensor([[1., 1.],\n",
              "        [1., 1.]])"
            ]
          },
          "metadata": {
            "tags": []
          },
          "execution_count": 16
        }
      ]
    },
    {
      "cell_type": "markdown",
      "metadata": {
        "id": "4lE1iSLHAOo2"
      },
      "source": [
        "a 2-by-2 tensor containing 1's in rows and columns"
      ]
    },
    {
      "cell_type": "code",
      "metadata": {
        "colab": {
          "base_uri": "https://localhost:8080/"
        },
        "id": "DmamnJsCAOo2",
        "outputId": "c26966e4-4d19-4f5d-b7c1-cb9c913088a4"
      },
      "source": [
        "# Example 2 - working\n",
        "torch.ones(5,6)"
      ],
      "execution_count": null,
      "outputs": [
        {
          "output_type": "execute_result",
          "data": {
            "text/plain": [
              "tensor([[1., 1., 1., 1., 1., 1.],\n",
              "        [1., 1., 1., 1., 1., 1.],\n",
              "        [1., 1., 1., 1., 1., 1.],\n",
              "        [1., 1., 1., 1., 1., 1.],\n",
              "        [1., 1., 1., 1., 1., 1.]])"
            ]
          },
          "metadata": {
            "tags": []
          },
          "execution_count": 17
        }
      ]
    },
    {
      "cell_type": "markdown",
      "metadata": {
        "id": "5ICkVD7kAOo2"
      },
      "source": [
        "a tensor containing 5 row and 6 columns having 1's as their value"
      ]
    },
    {
      "cell_type": "code",
      "metadata": {
        "colab": {
          "base_uri": "https://localhost:8080/",
          "height": 185
        },
        "id": "5RKLjTnUAOo2",
        "outputId": "b080cde0-f495-48d6-fbf8-69a14b02d081"
      },
      "source": [
        "# Example 3 - breaking (to illustrate when it breaks)\n",
        "torch.ones(-1,-1)"
      ],
      "execution_count": null,
      "outputs": [
        {
          "output_type": "error",
          "ename": "RuntimeError",
          "evalue": "ignored",
          "traceback": [
            "\u001b[0;31m---------------------------------------------------------------------------\u001b[0m",
            "\u001b[0;31mRuntimeError\u001b[0m                              Traceback (most recent call last)",
            "\u001b[0;32m<ipython-input-18-a38e20d76939>\u001b[0m in \u001b[0;36m<module>\u001b[0;34m()\u001b[0m\n\u001b[1;32m      1\u001b[0m \u001b[0;31m# Example 3 - breaking (to illustrate when it breaks)\u001b[0m\u001b[0;34m\u001b[0m\u001b[0;34m\u001b[0m\u001b[0;34m\u001b[0m\u001b[0m\n\u001b[0;32m----> 2\u001b[0;31m \u001b[0mtorch\u001b[0m\u001b[0;34m.\u001b[0m\u001b[0mones\u001b[0m\u001b[0;34m(\u001b[0m\u001b[0;34m-\u001b[0m\u001b[0;36m1\u001b[0m\u001b[0;34m,\u001b[0m\u001b[0;34m-\u001b[0m\u001b[0;36m1\u001b[0m\u001b[0;34m)\u001b[0m\u001b[0;34m\u001b[0m\u001b[0;34m\u001b[0m\u001b[0m\n\u001b[0m",
            "\u001b[0;31mRuntimeError\u001b[0m: Trying to create tensor with negative dimension -1: [-1, -1]"
          ]
        }
      ]
    },
    {
      "cell_type": "markdown",
      "metadata": {
        "id": "OwWOz5OeAOo3"
      },
      "source": [
        "It will break when negative dimensions will be given"
      ]
    },
    {
      "cell_type": "markdown",
      "metadata": {
        "id": "2tDq2OwiAOo3"
      },
      "source": [
        "tensor.ones is used to genarate tensor containing 1's only in positive dimensions"
      ]
    },
    {
      "cell_type": "markdown",
      "metadata": {
        "id": "DFGbWtYvAOo3"
      },
      "source": [
        "## Function 4 - torch.rand\n",
        "\n",
        "tensor.rand to generate random valued tensor"
      ]
    },
    {
      "cell_type": "code",
      "metadata": {
        "colab": {
          "base_uri": "https://localhost:8080/"
        },
        "id": "Q9vKO3aaAOo3",
        "outputId": "77530b23-2bb7-4ea0-ca5b-107cf7cba272"
      },
      "source": [
        "# Example 1 - working\n",
        "torch.rand(2,2,3)"
      ],
      "execution_count": null,
      "outputs": [
        {
          "output_type": "execute_result",
          "data": {
            "text/plain": [
              "tensor([[[0.1155, 0.0887, 0.0104],\n",
              "         [0.3744, 0.0880, 0.8686]],\n",
              "\n",
              "        [[0.0238, 0.2649, 0.4369],\n",
              "         [0.7549, 0.5351, 0.9361]]])"
            ]
          },
          "metadata": {
            "tags": []
          },
          "execution_count": 23
        }
      ]
    },
    {
      "cell_type": "markdown",
      "metadata": {
        "id": "XRmiG8P0AOo3"
      },
      "source": [
        "A three dimensional tensor to generate random values at every index"
      ]
    },
    {
      "cell_type": "code",
      "metadata": {
        "colab": {
          "base_uri": "https://localhost:8080/"
        },
        "id": "xvetJqgTAOo3",
        "outputId": "d2b39f92-bdf7-426f-de53-ce1597197bd2"
      },
      "source": [
        "# Example 2 - working\n",
        "torch.rand(3,4)"
      ],
      "execution_count": null,
      "outputs": [
        {
          "output_type": "execute_result",
          "data": {
            "text/plain": [
              "tensor([[0.0389, 0.2987, 0.3474, 0.4845],\n",
              "        [0.5246, 0.1928, 0.2899, 0.3602],\n",
              "        [0.7553, 0.0021, 0.8936, 0.7167]])"
            ]
          },
          "metadata": {
            "tags": []
          },
          "execution_count": 24
        }
      ]
    },
    {
      "cell_type": "markdown",
      "metadata": {
        "id": "dHugy787AOo4"
      },
      "source": [
        "3-by-4 size tensor containing random numbers "
      ]
    },
    {
      "cell_type": "code",
      "metadata": {
        "colab": {
          "base_uri": "https://localhost:8080/",
          "height": 306
        },
        "id": "9AanRBE8AOo4",
        "outputId": "a647ba77-a025-42fa-e917-62668b71e123"
      },
      "source": [
        "# Example 3 - breaking (to illustrate when it breaks)\n",
        "torch.rand()"
      ],
      "execution_count": null,
      "outputs": [
        {
          "output_type": "error",
          "ename": "TypeError",
          "evalue": "ignored",
          "traceback": [
            "\u001b[0;31m---------------------------------------------------------------------------\u001b[0m",
            "\u001b[0;31mTypeError\u001b[0m                                 Traceback (most recent call last)",
            "\u001b[0;32m<ipython-input-25-484b053fcb8a>\u001b[0m in \u001b[0;36m<module>\u001b[0;34m()\u001b[0m\n\u001b[1;32m      1\u001b[0m \u001b[0;31m# Example 3 - breaking (to illustrate when it breaks)\u001b[0m\u001b[0;34m\u001b[0m\u001b[0;34m\u001b[0m\u001b[0;34m\u001b[0m\u001b[0m\n\u001b[0;32m----> 2\u001b[0;31m \u001b[0mtorch\u001b[0m\u001b[0;34m.\u001b[0m\u001b[0mrand\u001b[0m\u001b[0;34m(\u001b[0m\u001b[0;34m)\u001b[0m\u001b[0;34m\u001b[0m\u001b[0;34m\u001b[0m\u001b[0m\n\u001b[0m",
            "\u001b[0;31mTypeError\u001b[0m: rand() received an invalid combination of arguments - got (), but expected one of:\n * (tuple of ints size, *, tuple of names names, torch.dtype dtype, torch.layout layout, torch.device device, bool pin_memory, bool requires_grad)\n * (tuple of ints size, *, torch.Generator generator, tuple of names names, torch.dtype dtype, torch.layout layout, torch.device device, bool pin_memory, bool requires_grad)\n * (tuple of ints size, *, torch.Generator generator, Tensor out, torch.dtype dtype, torch.layout layout, torch.device device, bool pin_memory, bool requires_grad)\n * (tuple of ints size, *, Tensor out, torch.dtype dtype, torch.layout layout, torch.device device, bool pin_memory, bool requires_grad)\n"
          ]
        }
      ]
    },
    {
      "cell_type": "markdown",
      "metadata": {
        "id": "PUiPpyFJAOo4"
      },
      "source": [
        "It will break when no tensor dimensions or size will be given"
      ]
    },
    {
      "cell_type": "markdown",
      "metadata": {
        "id": "xL0gPb2sAOo4"
      },
      "source": [
        "This function is used to generate random values containing tensors"
      ]
    },
    {
      "cell_type": "markdown",
      "metadata": {
        "id": "HTEtU3oBAOo6"
      },
      "source": [
        "## Function 5 - torch.unsqueeze\n",
        "\n",
        "Returns a new tensor with a dimension of size one inserted at the specified position."
      ]
    },
    {
      "cell_type": "code",
      "metadata": {
        "colab": {
          "base_uri": "https://localhost:8080/"
        },
        "id": "Q0duFFbUAOo6",
        "outputId": "948d7aa3-bf2b-41df-f530-4dfb19768718"
      },
      "source": [
        "# Example 1 - working\n",
        "x=torch.tensor([1,2,3,4])\n",
        "torch.unsqueeze(x,0)"
      ],
      "execution_count": null,
      "outputs": [
        {
          "output_type": "execute_result",
          "data": {
            "text/plain": [
              "tensor([[1, 2, 3, 4]])"
            ]
          },
          "metadata": {
            "tags": []
          },
          "execution_count": 33
        }
      ]
    },
    {
      "cell_type": "markdown",
      "metadata": {
        "id": "pG7zBJroAOo6"
      },
      "source": [
        "Unsqueezing x at 0"
      ]
    },
    {
      "cell_type": "code",
      "metadata": {
        "colab": {
          "base_uri": "https://localhost:8080/"
        },
        "id": "qsIUxIA5AOo6",
        "outputId": "dbd24259-e641-457c-8a50-246cca5af65f"
      },
      "source": [
        "# Example 2 - working\n",
        "torch.unsqueeze(x,1)"
      ],
      "execution_count": null,
      "outputs": [
        {
          "output_type": "execute_result",
          "data": {
            "text/plain": [
              "tensor([[1],\n",
              "        [2],\n",
              "        [3],\n",
              "        [4]])"
            ]
          },
          "metadata": {
            "tags": []
          },
          "execution_count": 34
        }
      ]
    },
    {
      "cell_type": "markdown",
      "metadata": {
        "id": "s4eljSh6AOo6"
      },
      "source": [
        "unsqueeze at 1"
      ]
    },
    {
      "cell_type": "code",
      "metadata": {
        "colab": {
          "base_uri": "https://localhost:8080/",
          "height": 185
        },
        "id": "qIkPPSVzAOo6",
        "outputId": "217b28c1-cc4c-4024-f16d-f4a009f4f781"
      },
      "source": [
        "# Example 3 - breaking (to illustrate when it breaks)\n",
        "torch.unsqueeze(x,2)"
      ],
      "execution_count": null,
      "outputs": [
        {
          "output_type": "error",
          "ename": "IndexError",
          "evalue": "ignored",
          "traceback": [
            "\u001b[0;31m---------------------------------------------------------------------------\u001b[0m",
            "\u001b[0;31mIndexError\u001b[0m                                Traceback (most recent call last)",
            "\u001b[0;32m<ipython-input-35-4ab7e17598a4>\u001b[0m in \u001b[0;36m<module>\u001b[0;34m()\u001b[0m\n\u001b[1;32m      1\u001b[0m \u001b[0;31m# Example 3 - breaking (to illustrate when it breaks)\u001b[0m\u001b[0;34m\u001b[0m\u001b[0;34m\u001b[0m\u001b[0;34m\u001b[0m\u001b[0m\n\u001b[0;32m----> 2\u001b[0;31m \u001b[0mtorch\u001b[0m\u001b[0;34m.\u001b[0m\u001b[0munsqueeze\u001b[0m\u001b[0;34m(\u001b[0m\u001b[0mx\u001b[0m\u001b[0;34m,\u001b[0m\u001b[0;36m2\u001b[0m\u001b[0;34m)\u001b[0m\u001b[0;34m\u001b[0m\u001b[0;34m\u001b[0m\u001b[0m\n\u001b[0m",
            "\u001b[0;31mIndexError\u001b[0m: Dimension out of range (expected to be in range of [-2, 1], but got 2)"
          ]
        }
      ]
    },
    {
      "cell_type": "markdown",
      "metadata": {
        "id": "iAGezmVPAOo6"
      },
      "source": [
        "It will break if dimension given is out of range"
      ]
    },
    {
      "cell_type": "markdown",
      "metadata": {
        "id": "BIzOwjbsAOo6"
      },
      "source": [
        "this function is used to unsqueezing a tensor at any dimension"
      ]
    },
    {
      "cell_type": "markdown",
      "metadata": {
        "id": "jfnXC6w5AOo8"
      },
      "source": [
        "## Conclusion\n",
        "\n",
        "We studied different tensor functions in order to enhance our knowledge about tensors. We studied about usage of tensor and its functions. "
      ]
    },
    {
      "cell_type": "markdown",
      "metadata": {
        "id": "jQy8YvRJAOo8"
      },
      "source": [
        "## Reference Links\n",
        "Provide links to your references and other interesting articles about tensors\n",
        "* Official documentation for tensor operations: https://pytorch.org/docs/stable/torch.html\n",
        "* https://medium.com/secure-and-private-ai-writing-challenge/introduction-to-tensors-2-using-pytorch-2b6270a838f"
      ]
    },
    {
      "cell_type": "code",
      "metadata": {
        "id": "HQD0O0kRAOo8"
      },
      "source": [
        ""
      ],
      "execution_count": null,
      "outputs": []
    }
  ]
}